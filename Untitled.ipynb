{
 "cells": [
  {
   "cell_type": "markdown",
   "metadata": {},
   "source": [
    "# My LA Footprint\n",
    "After coming across this [Beneath Data blogpost](http://beneathdata.com/how-to/visualizing-my-location-history/), I thought it would be interesting to take a look at my own location data within Los Angeles to get a sense for how well I know different neighborhoods. [Others](http://www.juanshishido.com/locationhistoryhex.html) have done the same, but I haven't seen any with a Los Angeles map (yet). The big difference this time around is that I can take advantage of the GeoPandas library, which I am guessing was not yet available when the original blog post was written.\n",
    "\n",
    "This tutorial will mostly follow the steps from the original Beneat Data blogpost, with some differences in the use of GeoPandas when appropriate.\n",
    "\n",
    "### Step 1: Get your location history via Google takeout\n",
    "1. Go to https://www.google.com/settings/takeout and uncheck all services except \"Location History.\"\n",
    "2. When Google finishes creating the archive, download and unzip the file, which should be called \"LocationHistory.json\""
   ]
  },
  {
   "cell_type": "code",
   "execution_count": 33,
   "metadata": {},
   "outputs": [],
   "source": [
    "##### Setup\n",
    "%matplotlib inline\n",
    "import json\n",
    "import geopandas as gpd\n",
    "from shapely.geometry import Point\n",
    "import matplotlib.pyplot as plt\n",
    "import datetime"
   ]
  },
  {
   "cell_type": "markdown",
   "metadata": {},
   "source": [
    "### Step 2: Read the json file into a GeoDataFrame\n",
    "For this piece of the project, I found this handy [jupyter notebook](http://nbviewer.jupyter.org/gist/perrygeo/28e7d2a7d3f2d7b37ca0) with the code to transform the Google Location History JSON file into a usable GeoPandas GeoDataFrame. "
   ]
  },
  {
   "cell_type": "code",
   "execution_count": 34,
   "metadata": {},
   "outputs": [
    {
     "name": "stdout",
     "output_type": "stream",
     "text": [
      "193047\n",
      "[]\n"
     ]
    },
    {
     "data": {
      "text/html": [
       "<div>\n",
       "<style>\n",
       "    .dataframe thead tr:only-child th {\n",
       "        text-align: right;\n",
       "    }\n",
       "\n",
       "    .dataframe thead th {\n",
       "        text-align: left;\n",
       "    }\n",
       "\n",
       "    .dataframe tbody tr th {\n",
       "        vertical-align: top;\n",
       "    }\n",
       "</style>\n",
       "<table border=\"1\" class=\"dataframe\">\n",
       "  <thead>\n",
       "    <tr style=\"text-align: right;\">\n",
       "      <th></th>\n",
       "      <th>accuracy</th>\n",
       "      <th>activity</th>\n",
       "      <th>altitude</th>\n",
       "      <th>datetime</th>\n",
       "      <th>geometry</th>\n",
       "      <th>heading</th>\n",
       "      <th>lat</th>\n",
       "      <th>likelyActivity</th>\n",
       "      <th>lon</th>\n",
       "      <th>timestampSec</th>\n",
       "      <th>velocity</th>\n",
       "    </tr>\n",
       "  </thead>\n",
       "  <tbody>\n",
       "    <tr>\n",
       "      <th>0</th>\n",
       "      <td>21</td>\n",
       "      <td>NaN</td>\n",
       "      <td>87.0</td>\n",
       "      <td>2017-07-06 14:00:38</td>\n",
       "      <td>POINT (-118.2430915 34.0515456)</td>\n",
       "      <td>NaN</td>\n",
       "      <td>34.051546</td>\n",
       "      <td></td>\n",
       "      <td>-118.243091</td>\n",
       "      <td>1.499375e+09</td>\n",
       "      <td>NaN</td>\n",
       "    </tr>\n",
       "    <tr>\n",
       "      <th>1</th>\n",
       "      <td>21</td>\n",
       "      <td>NaN</td>\n",
       "      <td>87.0</td>\n",
       "      <td>2017-07-06 13:58:40</td>\n",
       "      <td>POINT (-118.2430915 34.0515456)</td>\n",
       "      <td>NaN</td>\n",
       "      <td>34.051546</td>\n",
       "      <td></td>\n",
       "      <td>-118.243091</td>\n",
       "      <td>1.499375e+09</td>\n",
       "      <td>NaN</td>\n",
       "    </tr>\n",
       "    <tr>\n",
       "      <th>2</th>\n",
       "      <td>21</td>\n",
       "      <td>NaN</td>\n",
       "      <td>87.0</td>\n",
       "      <td>2017-07-06 13:54:38</td>\n",
       "      <td>POINT (-118.2431029 34.0515727)</td>\n",
       "      <td>NaN</td>\n",
       "      <td>34.051573</td>\n",
       "      <td></td>\n",
       "      <td>-118.243103</td>\n",
       "      <td>1.499374e+09</td>\n",
       "      <td>NaN</td>\n",
       "    </tr>\n",
       "  </tbody>\n",
       "</table>\n",
       "</div>"
      ],
      "text/plain": [
       "   accuracy activity  altitude             datetime  \\\n",
       "0        21      NaN      87.0  2017-07-06 14:00:38   \n",
       "1        21      NaN      87.0  2017-07-06 13:58:40   \n",
       "2        21      NaN      87.0  2017-07-06 13:54:38   \n",
       "\n",
       "                          geometry  heading        lat likelyActivity  \\\n",
       "0  POINT (-118.2430915 34.0515456)      NaN  34.051546                  \n",
       "1  POINT (-118.2430915 34.0515456)      NaN  34.051546                  \n",
       "2  POINT (-118.2431029 34.0515727)      NaN  34.051573                  \n",
       "\n",
       "          lon  timestampSec  velocity  \n",
       "0 -118.243091  1.499375e+09       NaN  \n",
       "1 -118.243091  1.499375e+09       NaN  \n",
       "2 -118.243103  1.499374e+09       NaN  "
      ]
     },
     "execution_count": 34,
     "metadata": {},
     "output_type": "execute_result"
    }
   ],
   "source": [
    "\"\"\"Taken wholesale from code by @perrygeo\n",
    "    See the notebook below\n",
    "    http://nbviewer.jupyter.org/gist/perrygeo/28e7d2a7d3f2d7b37ca0\n",
    "    \"\"\"\n",
    "\n",
    "with open('Takeout/Location_History/Location_History.json', 'r') as fh:\n",
    "    data = json.loads(fh.read())\n",
    "\n",
    "locations = data['locations']\n",
    "print len(locations)\n",
    "\n",
    "# first pass, gather activity types\n",
    "act_types = set()\n",
    "for loc in locations:\n",
    "    try:\n",
    "        activities = loc['activitys'][0]['activities']\n",
    "        assert len(activities) >= 1\n",
    "        for act in activities:\n",
    "            act_type = act['type']\n",
    "            act_types.add(act_type)\n",
    "    except:\n",
    "        pass    \n",
    "    \n",
    "act_types = sorted(list(act_types))\n",
    "print act_types\n",
    "\n",
    "def generate_locations(locations):\n",
    "    for loc in locations:\n",
    "        loc['lon'] = loc['longitudeE7'] * 0.0000001\n",
    "        loc['lat'] = loc['latitudeE7'] * 0.0000001\n",
    "        #loc['wkt'] = 'POINT({0} {1})'.format(loc['lon'], loc['lat'])\n",
    "        loc['geometry'] = Point(loc['lon'], loc['lat'])\n",
    "        loc['timestampSec'] = int(loc['timestampMs']) * 0.001  # ms to s\n",
    "        loc['datetime'] = datetime.datetime.fromtimestamp(loc['timestampSec']).strftime('%Y-%m-%d %H:%M:%S')\n",
    "        for typ in act_types:\n",
    "            loc[typ] = 0\n",
    "        \n",
    "        maxprob = 0\n",
    "        bestguess = \"\"\n",
    "        try:\n",
    "            activities = loc['activitys'][0]['activities']\n",
    "            assert len(activities) >= 1\n",
    "\n",
    "            # Look at confidence estimate for each activity\n",
    "            for act in activities:\n",
    "                conf = act['confidence']\n",
    "                act_type = act['type']\n",
    "                if conf > maxprob:\n",
    "                    maxprob = conf\n",
    "                    bestguess = act_type \n",
    "                loc[act_type] = conf\n",
    "        except:\n",
    "            pass\n",
    "\n",
    "        loc['likelyActivity'] = bestguess\n",
    "\n",
    "        # Get rid of extraneous columns\n",
    "        try:\n",
    "            del loc['activitys']\n",
    "        except KeyError:\n",
    "            pass\n",
    "        try:\n",
    "            del loc['latitudeE7']\n",
    "            del loc['longitudeE7']\n",
    "            del loc['timestampMs']\n",
    "        except KeyError:\n",
    "            pass\n",
    "        \n",
    "        yield loc\n",
    "        \n",
    "df = gpd.GeoDataFrame(generate_locations(locations), \n",
    "                        crs={'proj':'longlat', 'ellps':'WGS84', 'datum':'WGS84', 'no_defs':True})\n",
    "df.head(3)"
   ]
  },
  {
   "cell_type": "markdown",
   "metadata": {},
   "source": [
    "### Step 3: Bring in the Neighborhoods\n",
    "I'm interested in looking at my location history within neighborhoods of LA. The best source for this data is the LA Times [Mapping L.A.](http://maps.latimes.com/about/#the-data) project, which provides data for LA County neighborhoods and LA city neighborhoods in KML / SHP / JSON formats. I went ahead and downloaded the LA city neighborhoods in the shapefile format. "
   ]
  },
  {
   "cell_type": "code",
   "execution_count": 28,
   "metadata": {},
   "outputs": [
    {
     "data": {
      "text/plain": [
       "<matplotlib.axes._subplots.AxesSubplot at 0x164cfe48>"
      ]
     },
     "execution_count": 28,
     "metadata": {},
     "output_type": "execute_result"
    },
    {
     "data": {
      "image/png": "[encoded data removed]",
      "text/plain": [
       "<matplotlib.figure.Figure at 0x164df668>"
      ]
     },
     "metadata": {},
     "output_type": "display_data"
    }
   ],
   "source": [
    "# Read the shapefile and take a peek\n",
    "la_neighborhoods = gpd.read_file('la_neighborhoods/la_city.shp')\n",
    "la_neighborhoods.plot(color='none',linewidth=0.1)"
   ]
  },
  {
   "cell_type": "markdown",
   "metadata": {},
   "source": [
    "Let's go ahead and filter out all my google location data that is not within the City of Angeles."
   ]
  }
 ],
 "metadata": {
  "kernelspec": {
   "display_name": "python27",
   "language": "python",
   "name": "python27"
  },
  "language_info": {
   "codemirror_mode": {
    "name": "ipython",
    "version": 2
   },
   "file_extension": ".py",
   "mimetype": "text/x-python",
   "name": "python",
   "nbconvert_exporter": "python",
   "pygments_lexer": "ipython2",
   "version": "2.7.13"
  }
 },
 "nbformat": 4,
 "nbformat_minor": 2
}
